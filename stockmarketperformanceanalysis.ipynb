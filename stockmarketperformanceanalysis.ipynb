#Install the yfinance library using pip
!pip install yfinance

#Import necessary libraries
import pandas as pd
import yfinance as yf
from datetime import datetime

#Define the start and end dates for collecting stock data (last 3 months)
start_date = datetime.now() - pd.DateOffset(months = 3)
end_date = datetime.now()

#Define a list of stock tickers to collect data for
tickers = ['AAPL', 'MSFT', 'NFLX', 'GOOG']

#Initialize an empty list to store dataframe for each stock
df_list = []

#Loop through each ticker, download stock data, and append it to the list
for ticker in tickers:
  data = yf.download(ticker, start = start_date, end = end_date)
  df_list.append(data)

#Concatenate and display all the dataframes into one, using 'Ticker' and 'Date' as multi-level indices
df = pd.concat(df_list, keys = tickers, names = ['Ticker', 'Date'])
print(df.head())

#Reset the index of the dataframe and display it
df = df.reset_index()
print(df.head())

#Import the 'plotly.express' library fo data visualization
import plotly.express as px
#Create a line chart to visualize the stock market performance of all companies
fig = px.line(df, x = 'Date',
              y = 'Close',
              color = 'Ticker',
              title = "Stock Market Performance for the Last 3 Months")
fig.show()

#Create an area chart to easily compare stock prices of different companies
fig = px.area(df, x = 'Date', y = 'Close', color = 'Ticker',
              facet_col = 'Ticker',
              labels = {'Date':'Date', 'Close': 'Closing Price', 'Ticker': 'Company'},
              title = 'Stock Prices for Apple, Microsoft, Netflix, and Google')
fig.show()


#Calculate and visualize moving averages for each company
df['MA10'] = df.groupby('Ticker')['Close'].rolling(window=10).mean().reset_index(0, drop=True)
df['MA20'] = df.groupby('Ticker')['Close'].rolling(window=20).mean().reset_index(0, drop=True)

for ticker, group in df.groupby('Ticker'):
  print(f'Moving Averages for {ticker}')
  print(group[['MA10', 'MA20']])

#Create line charts to visualize the moving averages for each company
for ticker, group in df.groupby('Ticker'):
  fig = px.line(group, x = 'Date', y = ['Close', 'MA10', 'MA20'],
                title = f"{ticker} Moving Averages")
  fig.show()




#Calculate and visualize the volatiltiy of all companies
df['Volatility'] = df.groupby('Ticker')['Close'].pct_change().rolling(window=10).std().reset_index(0, drop=True)
fig = px.line(df, x = 'Date', y = 'Volatility',
              color = 'Ticker',
              title = 'Volatility of All Companies')
fig.show()




#Create a DataFrame with the stock prices of Apple and Microsoft
apple = df.loc[df['Ticker'] == 'AAPL', ['Date', 'Close']].rename(columns = {'Close': 'AAPL'})
microsoft = df.loc[df['Ticker'] == 'MSFT', ['Date', 'Close']].rename(columns = {'Close': 'MSFT'})
df_corr = pd.merge(apple, microsoft, on = 'Date')

#Create a scatter plot to visualize the correlation
fig = px.scatter(df_corr, x = 'AAPL', y = 'MSFT',
                 trendline = 'ols',
                 title = 'Correlation between Apple and Microsoft')
fig.show()

# Create a DataFrame with the stock prices of Google and Netflix
google = df.loc[df['Ticker'] == 'GOOG', ['Date', 'Close']].rename(columns={'Close': 'GOOG'})
netflix = df.loc[df['Ticker'] == 'NFLX', ['Date', 'Close']].rename(columns={'Close': 'NFLX'})
df_corr = pd.merge(google, netflix, on='Date')

# Create a scatter plot to visualize the correlation
fig = px.scatter(df_corr, x='GOOG', y='NFLX',
                 trendline='ols',
                 title='Correlation between Google and Netflix')
fig.show()
